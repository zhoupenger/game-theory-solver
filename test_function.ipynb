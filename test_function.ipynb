{
 "cells": [
  {
   "cell_type": "code",
   "execution_count": 6,
   "metadata": {},
   "outputs": [],
   "source": [
    "import itertools\n",
    "import random\n",
    "\n",
    "def roll_dice_combinations(dice_num):\n",
    "    # 生成玩家1的所有骰子可能结果\n",
    "    player1_dice_outcomes = list(itertools.product(range(1, 7), repeat=dice_num[0]))\n",
    "    # 生成玩家2的所有骰子可能结果\n",
    "    player2_dice_outcomes = list(itertools.product(range(1, 7), repeat=dice_num[1]))\n",
    "    \n",
    "    # 生成玩家1和玩家2骰子的所有组合\n",
    "    all_combinations = list(itertools.product(player1_dice_outcomes, player2_dice_outcomes))\n",
    "    \n",
    "    # 转换组合格式，方便区分玩家1和玩家2的骰子\n",
    "    formatted_combinations = [\n",
    "        ((\"player1\", player1_dice), (\"player2\", player2_dice)) \n",
    "        for player1_dice, player2_dice in all_combinations\n",
    "    ]\n",
    "    \n",
    "    return formatted_combinations\n",
    "\n",
    "dice_num = [1, 1]  # 例如，玩家1有2个骰子，玩家2有3个骰子\n",
    "combinations = roll_dice_combinations(dice_num)"
   ]
  },
  {
   "cell_type": "code",
   "execution_count": 7,
   "metadata": {},
   "outputs": [
    {
     "data": {
      "text/plain": [
       "36"
      ]
     },
     "execution_count": 7,
     "metadata": {},
     "output_type": "execute_result"
    }
   ],
   "source": [
    "len(combinations)"
   ]
  },
  {
   "cell_type": "code",
   "execution_count": null,
   "metadata": {},
   "outputs": [],
   "source": []
  },
  {
   "cell_type": "code",
   "execution_count": 8,
   "metadata": {},
   "outputs": [],
   "source": [
    "import sys\n",
    "sys.path.append('/Users/syesw/Desktop/reinforcement_learning_tutorial')\n",
    "sys.path.append('/Users/syesw/Desktop/reinforcement_learning_tutorial/cfralgo')"
   ]
  },
  {
   "cell_type": "code",
   "execution_count": 18,
   "metadata": {},
   "outputs": [
    {
     "name": "stdout",
     "output_type": "stream",
     "text": [
      "当前节点所在的信息集I: .\n",
      "chance节点的合法行动: [(('player1', (1,)), ('player2', (1,))), (('player1', (1,)), ('player2', (2,))), (('player1', (1,)), ('player2', (3,))), (('player1', (1,)), ('player2', (4,))), (('player1', (1,)), ('player2', (5,))), (('player1', (1,)), ('player2', (6,))), (('player1', (2,)), ('player2', (1,))), (('player1', (2,)), ('player2', (2,))), (('player1', (2,)), ('player2', (3,))), (('player1', (2,)), ('player2', (4,))), (('player1', (2,)), ('player2', (5,))), (('player1', (2,)), ('player2', (6,))), (('player1', (3,)), ('player2', (1,))), (('player1', (3,)), ('player2', (2,))), (('player1', (3,)), ('player2', (3,))), (('player1', (3,)), ('player2', (4,))), (('player1', (3,)), ('player2', (5,))), (('player1', (3,)), ('player2', (6,))), (('player1', (4,)), ('player2', (1,))), (('player1', (4,)), ('player2', (2,))), (('player1', (4,)), ('player2', (3,))), (('player1', (4,)), ('player2', (4,))), (('player1', (4,)), ('player2', (5,))), (('player1', (4,)), ('player2', (6,))), (('player1', (5,)), ('player2', (1,))), (('player1', (5,)), ('player2', (2,))), (('player1', (5,)), ('player2', (3,))), (('player1', (5,)), ('player2', (4,))), (('player1', (5,)), ('player2', (5,))), (('player1', (5,)), ('player2', (6,))), (('player1', (6,)), ('player2', (1,))), (('player1', (6,)), ('player2', (2,))), (('player1', (6,)), ('player2', (3,))), (('player1', (6,)), ('player2', (4,))), (('player1', (6,)), ('player2', (5,))), (('player1', (6,)), ('player2', (6,)))]\n",
      "chance节点的子节点: {(('player1', (1,)), ('player2', (1,))): <cfralgo.games.dudo.DudoPlayerMoveGameState object at 0x13696b760>, (('player1', (1,)), ('player2', (2,))): <cfralgo.games.dudo.DudoPlayerMoveGameState object at 0x13696b790>, (('player1', (1,)), ('player2', (3,))): <cfralgo.games.dudo.DudoPlayerMoveGameState object at 0x13696b850>, (('player1', (1,)), ('player2', (4,))): <cfralgo.games.dudo.DudoPlayerMoveGameState object at 0x14893bc40>, (('player1', (1,)), ('player2', (5,))): <cfralgo.games.dudo.DudoPlayerMoveGameState object at 0x14893bbe0>, (('player1', (1,)), ('player2', (6,))): <cfralgo.games.dudo.DudoPlayerMoveGameState object at 0x148cc7dc0>, (('player1', (2,)), ('player2', (1,))): <cfralgo.games.dudo.DudoPlayerMoveGameState object at 0x148cc7d60>, (('player1', (2,)), ('player2', (2,))): <cfralgo.games.dudo.DudoPlayerMoveGameState object at 0x13696b820>, (('player1', (2,)), ('player2', (3,))): <cfralgo.games.dudo.DudoPlayerMoveGameState object at 0x1470f8700>, (('player1', (2,)), ('player2', (4,))): <cfralgo.games.dudo.DudoPlayerMoveGameState object at 0x136aa4880>, (('player1', (2,)), ('player2', (5,))): <cfralgo.games.dudo.DudoPlayerMoveGameState object at 0x136e2ca00>, (('player1', (2,)), ('player2', (6,))): <cfralgo.games.dudo.DudoPlayerMoveGameState object at 0x1371b6b80>, (('player1', (3,)), ('player2', (1,))): <cfralgo.games.dudo.DudoPlayerMoveGameState object at 0x13753fca0>, (('player1', (3,)), ('player2', (2,))): <cfralgo.games.dudo.DudoPlayerMoveGameState object at 0x1378c8dc0>, (('player1', (3,)), ('player2', (3,))): <cfralgo.games.dudo.DudoPlayerMoveGameState object at 0x137c52ee0>, (('player1', (3,)), ('player2', (4,))): <cfralgo.games.dudo.DudoPlayerMoveGameState object at 0x14984f070>, (('player1', (3,)), ('player2', (5,))): <cfralgo.games.dudo.DudoPlayerMoveGameState object at 0x14111bfd0>, (('player1', (3,)), ('player2', (6,))): <cfralgo.games.dudo.DudoPlayerMoveGameState object at 0x1414a4cd0>, (('player1', (4,)), ('player2', (1,))): <cfralgo.games.dudo.DudoPlayerMoveGameState object at 0x1414b2220>, (('player1', (4,)), ('player2', (2,))): <cfralgo.games.dudo.DudoPlayerMoveGameState object at 0x14183a3a0>, (('player1', (4,)), ('player2', (3,))): <cfralgo.games.dudo.DudoPlayerMoveGameState object at 0x141c42520>, (('player1', (4,)), ('player2', (4,))): <cfralgo.games.dudo.DudoPlayerMoveGameState object at 0x1426df7f0>, (('player1', (4,)), ('player2', (5,))): <cfralgo.games.dudo.DudoPlayerMoveGameState object at 0x142a69970>, (('player1', (4,)), ('player2', (6,))): <cfralgo.games.dudo.DudoPlayerMoveGameState object at 0x142e72af0>, (('player1', (5,)), ('player2', (1,))): <cfralgo.games.dudo.DudoPlayerMoveGameState object at 0x14323cc70>, (('player1', (5,)), ('player2', (2,))): <cfralgo.games.dudo.DudoPlayerMoveGameState object at 0x143605df0>, (('player1', (5,)), ('player2', (3,))): <cfralgo.games.dudo.DudoPlayerMoveGameState object at 0x14398ff10>, (('player1', (5,)), ('player2', (4,))): <cfralgo.games.dudo.DudoPlayerMoveGameState object at 0x141fcb4c0>, (('player1', (5,)), ('player2', (5,))): <cfralgo.games.dudo.DudoPlayerMoveGameState object at 0x143d18f10>, (('player1', (5,)), ('player2', (6,))): <cfralgo.games.dudo.DudoPlayerMoveGameState object at 0x1440a3d00>, (('player1', (6,)), ('player2', (1,))): <cfralgo.games.dudo.DudoPlayerMoveGameState object at 0x1440b1250>, (('player1', (6,)), ('player2', (2,))): <cfralgo.games.dudo.DudoPlayerMoveGameState object at 0x1444373d0>, (('player1', (6,)), ('player2', (3,))): <cfralgo.games.dudo.DudoPlayerMoveGameState object at 0x144fd48b0>, (('player1', (6,)), ('player2', (4,))): <cfralgo.games.dudo.DudoPlayerMoveGameState object at 0x14535c970>, (('player1', (6,)), ('player2', (5,))): <cfralgo.games.dudo.DudoPlayerMoveGameState object at 0x1456e5af0>, (('player1', (6,)), ('player2', (6,))): <cfralgo.games.dudo.DudoPlayerMoveGameState object at 0x145a70c70>}\n",
      "\n",
      "\n",
      "chance节点发牌: (('player1', (5,)), ('player2', (6,)))\n",
      "当前玩家1节点所在的信息集I: .(5,).\n",
      "当前玩家1节点行动路径h: []\n",
      "当前玩家1节点的合法行动: [0]\n",
      "当前玩家1节点的子节点: {0: <cfralgo.games.dudo.DudoPlayerMoveGameState object at 0x144c4b730>}\n",
      "\n",
      "\n",
      "玩家1选择声明-0\n",
      "当前玩家2节点所在的信息集I: .(6,).0\n",
      "当前玩家2节点行动路径h: ['0']\n",
      "当前玩家2节点的合法行动: [1, 2, 3, 4, 5, 6, 7, 8, 9, 10, 11, 'DUDO']\n",
      "当前玩家2节点的子节点: {1: <cfralgo.games.dudo.DudoPlayerMoveGameState object at 0x14535c6d0>, 2: <cfralgo.games.dudo.DudoPlayerMoveGameState object at 0x14535c8e0>, 3: <cfralgo.games.dudo.DudoPlayerMoveGameState object at 0x14535c700>, 4: <cfralgo.games.dudo.DudoPlayerMoveGameState object at 0x14535c940>, 5: <cfralgo.games.dudo.DudoPlayerMoveGameState object at 0x145523dc0>, 6: <cfralgo.games.dudo.DudoPlayerMoveGameState object at 0x145605d90>, 7: <cfralgo.games.dudo.DudoPlayerMoveGameState object at 0x1456acfd0>, 8: <cfralgo.games.dudo.DudoPlayerMoveGameState object at 0x1456b7220>, 9: <cfralgo.games.dudo.DudoPlayerMoveGameState object at 0x1456d00a0>, 10: <cfralgo.games.dudo.DudoPlayerMoveGameState object at 0x1456da880>, 11: <cfralgo.games.dudo.DudoPlayerMoveGameState object at 0x14535c100>, 'DUDO': <cfralgo.games.dudo.DudoPlayerMoveGameState object at 0x14535c400>}\n",
      "\n",
      "\n",
      "玩家2选择dudo\n",
      "当前玩家1节点所在的信息集I: .(5,).0.DUDO\n",
      "当前玩家1节点行动路径h: ['0', 'DUDO']\n",
      "当前玩家1节点的合法行动: []\n",
      "当前玩家1节点的子节点: {}\n",
      "\n",
      "\n"
     ]
    }
   ],
   "source": [
    "from cfralgo.games.dudo import DudoRootChanceGameState\n",
    "from cfralgo.common.constants import DUDO_RESULT_MAP\n",
    "\n",
    "root = DudoRootChanceGameState([1, 1])\n",
    "print(\"当前节点所在的信息集I: {0}\".format(root.inf_set()))\n",
    "print(\"chance节点的合法行动: {0}\".format(root.actions))\n",
    "print(\"chance节点的子节点: {0}\".format(root.children))\n",
    "print(\"\\n\")\n",
    "\n",
    "player1 = root.sample_one()\n",
    "print(\"chance节点发牌: {0}\".format(player1.dices))\n",
    "print(\"当前玩家1节点所在的信息集I: {0}\".format(player1.inf_set()))\n",
    "print(\"当前玩家1节点行动路径h: {0}\".format(player1.actions_history))\n",
    "print(\"当前玩家1节点的合法行动: {0}\".format(player1.actions))\n",
    "print(\"当前玩家1节点的子节点: {0}\".format(player1.children))\n",
    "print(\"\\n\")\n",
    "\n",
    "player2 = player1.children[0]\n",
    "print(\"玩家1选择声明-0\")\n",
    "print(\"当前玩家2节点所在的信息集I: {0}\".format(player2.inf_set()))\n",
    "print(\"当前玩家2节点行动路径h: {0}\".format(player2.actions_history))\n",
    "print(\"当前玩家2节点的合法行动: {0}\".format(player2.actions))\n",
    "print(\"当前玩家2节点的子节点: {0}\".format(player2.children))\n",
    "print(\"\\n\")\n",
    "\n",
    "player1 = player2.children['DUDO']\n",
    "print(\"玩家2选择dudo\")\n",
    "print(\"当前玩家1节点所在的信息集I: {0}\".format(player1.inf_set()))\n",
    "print(\"当前玩家1节点行动路径h: {0}\".format(player1.actions_history))\n",
    "print(\"当前玩家1节点的合法行动: {0}\".format(player1.actions))\n",
    "print(\"当前玩家1节点的子节点: {0}\".format(player1.children))\n",
    "print(\"\\n\")"
   ]
  },
  {
   "cell_type": "code",
   "execution_count": 10,
   "metadata": {},
   "outputs": [
    {
     "data": {
      "text/plain": [
       "-1"
      ]
     },
     "execution_count": 10,
     "metadata": {},
     "output_type": "execute_result"
    }
   ],
   "source": [
    "# 发了（1，1）,也就是两个1\n",
    "# player1声明0-也就是1个2\n",
    "# player2选择Dudo\n",
    "# 翻开并没有2，代表player2的Dudo是成功的返回1\n",
    "\n",
    "score = player1.evaluation()\n",
    "score"
   ]
  },
  {
   "cell_type": "code",
   "execution_count": 11,
   "metadata": {},
   "outputs": [
    {
     "data": {
      "text/plain": [
       "[2]"
      ]
     },
     "execution_count": 11,
     "metadata": {},
     "output_type": "execute_result"
    }
   ],
   "source": [
    "DUDO_RESULT_MAP[int(player1.actions_history[-2])]"
   ]
  },
  {
   "cell_type": "code",
   "execution_count": 12,
   "metadata": {},
   "outputs": [
    {
     "data": {
      "text/plain": [
       "0"
      ]
     },
     "execution_count": 12,
     "metadata": {},
     "output_type": "execute_result"
    }
   ],
   "source": [
    "int(player1.actions_history[-2])"
   ]
  },
  {
   "cell_type": "code",
   "execution_count": 13,
   "metadata": {},
   "outputs": [
    {
     "data": {
      "text/plain": [
       "(('player1', (2,)), ('player2', (2,)))"
      ]
     },
     "execution_count": 13,
     "metadata": {},
     "output_type": "execute_result"
    }
   ],
   "source": [
    "player1.dices"
   ]
  },
  {
   "cell_type": "code",
   "execution_count": null,
   "metadata": {},
   "outputs": [],
   "source": []
  },
  {
   "cell_type": "code",
   "execution_count": null,
   "metadata": {},
   "outputs": [],
   "source": []
  },
  {
   "cell_type": "code",
   "execution_count": null,
   "metadata": {},
   "outputs": [],
   "source": []
  },
  {
   "cell_type": "code",
   "execution_count": 14,
   "metadata": {},
   "outputs": [],
   "source": [
    "import sys\n",
    "sys.path.append('/Users/syesw/Desktop/reinforcement_learning_tutorial')\n",
    "sys.path.append('/Users/syesw/Desktop/reinforcement_learning_tutorial/cfralgo')"
   ]
  },
  {
   "cell_type": "code",
   "execution_count": 15,
   "metadata": {},
   "outputs": [],
   "source": [
    "from common.constants import ANNOUNCE, DUDO, CHANCE, A, B"
   ]
  },
  {
   "cell_type": "code",
   "execution_count": 16,
   "metadata": {},
   "outputs": [],
   "source": [
    "def __get_actions_in_next_round(a):\n",
    "        # 返回大于行动强度a小于12的合法行动\n",
    "        action = []\n",
    "\n",
    "        if a == DUDO:\n",
    "            return []\n",
    "        else:\n",
    "            for i in range(a+1, 12):\n",
    "                action.append(i)\n",
    "            action.append(DUDO)\n",
    "        \n",
    "        return action"
   ]
  },
  {
   "cell_type": "code",
   "execution_count": 17,
   "metadata": {},
   "outputs": [
    {
     "data": {
      "text/plain": [
       "[6, 7, 8, 9, 10, 11, 'DUDO']"
      ]
     },
     "execution_count": 17,
     "metadata": {},
     "output_type": "execute_result"
    }
   ],
   "source": [
    "__get_actions_in_next_round(5)\n"
   ]
  }
 ],
 "metadata": {
  "kernelspec": {
   "display_name": "RL",
   "language": "python",
   "name": "python3"
  },
  "language_info": {
   "codemirror_mode": {
    "name": "ipython",
    "version": 3
   },
   "file_extension": ".py",
   "mimetype": "text/x-python",
   "name": "python",
   "nbconvert_exporter": "python",
   "pygments_lexer": "ipython3",
   "version": "3.8.19"
  }
 },
 "nbformat": 4,
 "nbformat_minor": 2
}
