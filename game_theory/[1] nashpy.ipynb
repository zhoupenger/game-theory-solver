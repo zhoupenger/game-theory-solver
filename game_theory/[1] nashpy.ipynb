{
 "cells": [
  {
   "cell_type": "markdown",
   "metadata": {},
   "source": [
    "$A=\\begin{pmatrix}0&1&-1\\\\-1&0&1\\\\1&-1&0\\end{pmatrix}$\n",
    "\n",
    "A这个矩阵展示了当玩家以行row进行游戏，而对手以列进行游戏的情况下，A的payoff matrix"
   ]
  },
  {
   "cell_type": "code",
   "execution_count": 6,
   "metadata": {},
   "outputs": [
    {
     "data": {
      "text/plain": [
       "Zero sum game with payoff matrices:\n",
       "\n",
       "Row player:\n",
       "[[ 0  1 -1]\n",
       " [-1  0  1]\n",
       " [ 1 -1  0]]\n",
       "\n",
       "Column player:\n",
       "[[ 0 -1  1]\n",
       " [ 1  0 -1]\n",
       " [-1  1  0]]"
      ]
     },
     "execution_count": 6,
     "metadata": {},
     "output_type": "execute_result"
    }
   ],
   "source": [
    "import nashpy as nash\n",
    "import numpy as np\n",
    "\n",
    "A = np.array([[0, 1, -1], [-1, 0, 1], [1, -1, 0]])\n",
    "rps = nash.Game(A)\n",
    "rps"
   ]
  },
  {
   "cell_type": "markdown",
   "metadata": {},
   "source": [
    "在数学表达里，我们可以用$\\sigma$来表达玩家的策略\n",
    "\n",
    "例如$\\sigma_r=(0,0,1)$代表行玩家总是使用第三个动作\n",
    "\n",
    "$\\sigma_c=(1,0,0)$代表列玩家总是使用第一个动作\n",
    "\n",
    "当我们知道具体策略时，可以通过以下方法来获取某个玩家的Utility\n",
    "$\\sigma_rA\\sigma_c^T$"
   ]
  },
  {
   "cell_type": "code",
   "execution_count": 7,
   "metadata": {},
   "outputs": [
    {
     "data": {
      "text/plain": [
       "array([-1,  1])"
      ]
     },
     "execution_count": 7,
     "metadata": {},
     "output_type": "execute_result"
    }
   ],
   "source": [
    "# 石头 剪刀 布\n",
    "# 行玩家永远出布\n",
    "sigma_r = [0, 0, 1]\n",
    "# 列玩家永远出剪刀\n",
    "sigma_c = [0, 1, 0]\n",
    "# 将策略分别配置到游戏中\n",
    "rps[sigma_r, sigma_c]\n",
    "\n",
    "# 行玩家的Utility为-1（一直输）\n",
    "# 列玩家的Utility为1（一直赢）"
   ]
  },
  {
   "cell_type": "code",
   "execution_count": 8,
   "metadata": {},
   "outputs": [
    {
     "data": {
      "text/plain": [
       "array([0., 0.])"
      ]
     },
     "execution_count": 8,
     "metadata": {},
     "output_type": "execute_result"
    }
   ],
   "source": [
    "# 如果这时候行玩家还是出布\n",
    "# 但是列玩家混合石头和剪刀\n",
    "\n",
    "sigma_c = [1 / 2, 1 / 2, 0]\n",
    "rps[sigma_r, sigma_c]"
   ]
  },
  {
   "cell_type": "code",
   "execution_count": 9,
   "metadata": {},
   "outputs": [
    {
     "data": {
      "text/plain": [
       "array([-0.25,  0.25])"
      ]
     },
     "execution_count": 9,
     "metadata": {},
     "output_type": "execute_result"
    }
   ],
   "source": [
    "sigma_r = [0, 1 / 2, 1 / 2]\n",
    "rps[sigma_r, sigma_c]"
   ]
  },
  {
   "cell_type": "markdown",
   "metadata": {},
   "source": [
    "我们也可以通过nashpy库来求解纳什均衡问题。"
   ]
  },
  {
   "cell_type": "code",
   "execution_count": 10,
   "metadata": {},
   "outputs": [
    {
     "data": {
      "text/plain": [
       "[(array([0.33333333, 0.33333333, 0.33333333]),\n",
       "  array([0.33333333, 0.33333333, 0.33333333]))]"
      ]
     },
     "execution_count": 10,
     "metadata": {},
     "output_type": "execute_result"
    }
   ],
   "source": [
    "eqs = rps.support_enumeration()\n",
    "list(eqs)"
   ]
  }
 ],
 "metadata": {
  "kernelspec": {
   "display_name": "RL",
   "language": "python",
   "name": "python3"
  },
  "language_info": {
   "codemirror_mode": {
    "name": "ipython",
    "version": 3
   },
   "file_extension": ".py",
   "mimetype": "text/x-python",
   "name": "python",
   "nbconvert_exporter": "python",
   "pygments_lexer": "ipython3",
   "version": "3.8.19"
  }
 },
 "nbformat": 4,
 "nbformat_minor": 2
}
